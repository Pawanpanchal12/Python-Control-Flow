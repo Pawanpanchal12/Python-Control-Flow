{
 "cells": [
  {
   "cell_type": "markdown",
   "id": "db6bbda5",
   "metadata": {},
   "source": [
    "# Basic If-Else Statements:"
   ]
  },
  {
   "cell_type": "markdown",
   "id": "b8e0bdc2",
   "metadata": {},
   "source": [
    "Q-1 Write a Python program to check if a given number is positive or negative."
   ]
  },
  {
   "cell_type": "code",
   "execution_count": 1,
   "id": "4ecdbfab",
   "metadata": {},
   "outputs": [
    {
     "name": "stdout",
     "output_type": "stream",
     "text": [
      "Input a number: 3\n",
      "Number is Positive number.\n"
     ]
    }
   ],
   "source": [
    "n = float(input(\"Input a number: \"))\n",
    "if n >= 0:\n",
    "  if n == 0:\n",
    "      print(\"It is Zero!\")\n",
    "  else:\n",
    "      print(\"Number is Positive number.\")\n",
    "else:\n",
    "  print(\"Number is Negative number.\")"
   ]
  },
  {
   "cell_type": "markdown",
   "id": "fb6e1d2e",
   "metadata": {},
   "source": [
    "Q-2 Create a program that determines if a person is eligible to vote based on their age."
   ]
  },
  {
   "cell_type": "code",
   "execution_count": 2,
   "id": "c30efbfd",
   "metadata": {},
   "outputs": [
    {
     "name": "stdout",
     "output_type": "stream",
     "text": [
      "Enter age : 15\n",
      "Not Eligible for Voting!\n"
     ]
    }
   ],
   "source": [
    "age = int(input(\"Enter age : \"))\n",
    "\n",
    "if age >= 18:\n",
    "    print(\"Eligible for Voting!\")\n",
    "else:\n",
    "    print(\"Not Eligible for Voting!\")"
   ]
  },
  {
   "cell_type": "markdown",
   "id": "8ebc77d9",
   "metadata": {},
   "source": [
    "Q-3 Develop a program to find the maximum of two numbers using if-else statements."
   ]
  },
  {
   "cell_type": "code",
   "execution_count": 4,
   "id": "f7b56357",
   "metadata": {},
   "outputs": [
    {
     "name": "stdout",
     "output_type": "stream",
     "text": [
      "Enter the first number: 5\n",
      "Enter the second number: 7\n",
      "7 is greater\n"
     ]
    }
   ],
   "source": [
    "num1 = int(input(\"Enter the first number: \"))\n",
    "num2 = int(input(\"Enter the second number: \"))\n",
    "if(num1 > num2):\n",
    "  print(num1, \"is greater\")\n",
    "elif(num1 < num2):\n",
    "    print(num2, \"is greater\")\n",
    "else:\n",
    "    print(\"Both are equal\")"
   ]
  },
  {
   "cell_type": "markdown",
   "id": "ac1f2bc9",
   "metadata": {},
   "source": [
    "Q-4 Write a Python script to classify a given year as a leap year or not."
   ]
  },
  {
   "cell_type": "code",
   "execution_count": 5,
   "id": "0c087764",
   "metadata": {},
   "outputs": [],
   "source": [
    "def check_leap_year(year):\n",
    "    \n",
    "    if year % 4 == 0:\n",
    "        if year % 100 == 0:\n",
    "            if year % 400 == 0:\n",
    "                print(f\"{year} is a leap year\")\n",
    "            else:\n",
    "                print(f\"{year} is not a leap year\")\n",
    "        else:\n",
    "            print(f\"{year} is a leap year\")\n",
    "    else:\n",
    "        print(f\"{year} is not a leap year\")\n"
   ]
  },
  {
   "cell_type": "code",
   "execution_count": 6,
   "id": "4016823d",
   "metadata": {},
   "outputs": [
    {
     "name": "stdout",
     "output_type": "stream",
     "text": [
      "1991 is not a leap year\n"
     ]
    }
   ],
   "source": [
    "check_leap_year(1991)"
   ]
  },
  {
   "cell_type": "markdown",
   "id": "caa0a456",
   "metadata": {},
   "source": [
    "Q-5 Create a program that checks whether a character is a vowel or a consonant."
   ]
  },
  {
   "cell_type": "code",
   "execution_count": 7,
   "id": "7d9b06e1",
   "metadata": {},
   "outputs": [
    {
     "name": "stdout",
     "output_type": "stream",
     "text": [
      "Enter a character: pawan\n",
      "The character 'pawan' is a consonant!\n"
     ]
    }
   ],
   "source": [
    "character = input(\"Enter a character: \")  \n",
    "   \n",
    "vowels = ['a', 'e', 'i', 'o', 'u', 'A', 'E', 'I', 'O', 'U']  \n",
    "  \n",
    " \n",
    "if character in vowels:  \n",
    "    print(f\"The character '{character}' is a vowel!\")  \n",
    "else:  \n",
    "    print(f\"The character '{character}' is a consonant!\")  "
   ]
  },
  {
   "cell_type": "markdown",
   "id": "b392e056",
   "metadata": {},
   "source": [
    "Q-6 Implement a program to determine whether a given number is even or odd."
   ]
  },
  {
   "cell_type": "code",
   "execution_count": 11,
   "id": "a5cd3768",
   "metadata": {},
   "outputs": [
    {
     "name": "stdout",
     "output_type": "stream",
     "text": [
      "Enter a number: 56\n",
      "56 is Even\n"
     ]
    }
   ],
   "source": [
    "num = int(input(\"Enter a number: \"))\n",
    "if (num % 2) == 0:\n",
    "   print(\"{0} is Even\".format(num))\n",
    "else:\n",
    "   print(\"{0} is Odd\".format(num))\n",
    "\n",
    "\n"
   ]
  },
  {
   "cell_type": "markdown",
   "id": "cf8f590f",
   "metadata": {},
   "source": [
    "Q-7 Write a Python function to calculate the absolute value of a number without using the `abs()` function."
   ]
  },
  {
   "cell_type": "code",
   "execution_count": 12,
   "id": "09516f75",
   "metadata": {},
   "outputs": [
    {
     "name": "stdout",
     "output_type": "stream",
     "text": [
      "absolute value of 4+5j =  6.4031242374328485\n",
      "absolute value of 2-3j =  3.605551275463989\n",
      "absolute value of -3-4j =  5.0\n"
     ]
    }
   ],
   "source": [
    "num_1 = 4+5j\n",
    "num_2 = 2-3j\n",
    "num_3 = -3-4j\n",
    "# calculating absolute values of input complex numbers\n",
    "print(\"absolute value of 4+5j = \", abs(num_1))\n",
    "print(\"absolute value of 2-3j = \", abs(num_2))\n",
    "print(\"absolute value of -3-4j = \", abs(num_3))"
   ]
  },
  {
   "cell_type": "markdown",
   "id": "99917e7a",
   "metadata": {},
   "source": [
    "Q-8 Develop a program that determines the largest of three given numbers using if-else statements."
   ]
  },
  {
   "cell_type": "code",
   "execution_count": 14,
   "id": "228f3727",
   "metadata": {},
   "outputs": [
    {
     "name": "stdout",
     "output_type": "stream",
     "text": [
      "The largest number is 14\n"
     ]
    }
   ],
   "source": [
    "num1 = 10\n",
    "num2 = 14\n",
    "num3 = 12\n",
    "\n",
    "if (num1 >= num2) and (num1 >= num3):\n",
    "   largest = num1\n",
    "elif (num2 >= num1) and (num2 >= num3):\n",
    "   largest = num2\n",
    "else:\n",
    "   largest = num3\n",
    "\n",
    "print(\"The largest number is\", largest)"
   ]
  },
  {
   "cell_type": "markdown",
   "id": "44a62507",
   "metadata": {},
   "source": [
    "Q-9 Create a program that checks if a given string is a palindrome."
   ]
  },
  {
   "cell_type": "code",
   "execution_count": 18,
   "id": "4c4ae094",
   "metadata": {},
   "outputs": [
    {
     "name": "stdout",
     "output_type": "stream",
     "text": [
      "The string is a palindrome.\n"
     ]
    }
   ],
   "source": [
    "# Program to check if a string is palindrome or not\n",
    "\n",
    "my_str = 'aIbohPhoBiA'\n",
    "\n",
    "my_str = my_str.casefold()\n",
    "\n",
    "\n",
    "rev_str = reversed(my_str)\n",
    "\n",
    "\n",
    "if list(my_str) == list(rev_str):\n",
    "   print(\"The string is a palindrome.\")\n",
    "else:\n",
    "   print(\"The string is not a palindrome.\")"
   ]
  },
  {
   "cell_type": "markdown",
   "id": "822f978d",
   "metadata": {},
   "source": [
    "Q-10 Write a Python program to calculate the grade based on a student's score."
   ]
  },
  {
   "cell_type": "code",
   "execution_count": 19,
   "id": "414bc0eb",
   "metadata": {},
   "outputs": [
    {
     "name": "stdout",
     "output_type": "stream",
     "text": [
      "Enter Marks Obtained in 5 Subjects: \n",
      "45\n",
      "56\n",
      "89\n",
      "90\n",
      "54\n",
      "Your Grade is B2\n"
     ]
    }
   ],
   "source": [
    "print(\"Enter Marks Obtained in 5 Subjects: \")\n",
    "markOne = int(input())\n",
    "markTwo = int(input())\n",
    "markThree = int(input())\n",
    "markFour = int(input())\n",
    "markFive = int(input())\n",
    "\n",
    "tot = markOne+markTwo+markThree+markFour+markFive\n",
    "avg = tot/5\n",
    "\n",
    "if avg>=91 and avg<=100:\n",
    "    print(\"Your Grade is A1\")\n",
    "elif avg>=81 and avg<91:\n",
    "    print(\"Your Grade is A2\")\n",
    "elif avg>=71 and avg<81:\n",
    "    print(\"Your Grade is B1\")\n",
    "elif avg>=61 and avg<71:\n",
    "    print(\"Your Grade is B2\")\n",
    "elif avg>=51 and avg<61:\n",
    "    print(\"Your Grade is C1\")\n",
    "elif avg>=41 and avg<51:\n",
    "    print(\"Your Grade is C2\")\n",
    "elif avg>=33 and avg<41:\n",
    "    print(\"Your Grade is D\")\n",
    "elif avg>=21 and avg<33:\n",
    "    print(\"Your Grade is E1\")\n",
    "elif avg>=0 and avg<21:\n",
    "    print(\"Your Grade is E2\")\n",
    "else:\n",
    "    print(\"Invalid Input!\")"
   ]
  },
  {
   "cell_type": "markdown",
   "id": "baad332b",
   "metadata": {},
   "source": [
    "# Nested If-Else Statements:"
   ]
  },
  {
   "cell_type": "markdown",
   "id": "b0a9b7f6",
   "metadata": {},
   "source": [
    "Q-11 Write a program to find the largest among three numbers using nested if-else statements."
   ]
  },
  {
   "cell_type": "code",
   "execution_count": 20,
   "id": "2a8468e6",
   "metadata": {},
   "outputs": [
    {
     "name": "stdout",
     "output_type": "stream",
     "text": [
      "Enter A: 56\n",
      "Enter B: 78\n",
      "Enter C: 89\n",
      "Greater  =  89\n"
     ]
    }
   ],
   "source": [
    "a=int(input(\"Enter A: \"))\n",
    "b=int(input(\"Enter B: \"))\n",
    "c=int(input(\"Enter C: \"))\n",
    "\n",
    "if a>b:\n",
    "    if a>c:\n",
    "        g=a\n",
    "    else:\n",
    "        g=c\n",
    "else:\n",
    "    if b>c:\n",
    "        g=b\n",
    "    else:\n",
    "        g=c\n",
    "print(\"Greater  = \",g)"
   ]
  },
  {
   "cell_type": "markdown",
   "id": "4dd9b852",
   "metadata": {},
   "source": [
    "Q-12 Implement a program to determine if a triangle is equilateral, isosceles, or scalene."
   ]
  },
  {
   "cell_type": "code",
   "execution_count": 23,
   "id": "df4a8711",
   "metadata": {},
   "outputs": [
    {
     "name": "stdout",
     "output_type": "stream",
     "text": [
      "Input lengths of the triangle sides: \n",
      "x: 5\n",
      "y: 7\n",
      "z: 9\n",
      "Scalene triangle\n"
     ]
    }
   ],
   "source": [
    "print(\"Input lengths of the triangle sides: \")\n",
    "\n",
    "x = int(input(\"x: \"))\n",
    "y = int(input(\"y: \"))\n",
    "z = int(input(\"z: \"))\n",
    "\n",
    "if x == y == z:\n",
    "\tprint(\"Equilateral triangle\")\n",
    "elif x==y or y==z or z==x:\n",
    "\tprint(\"isosceles triangle\")\n",
    "else:\n",
    "\tprint(\"Scalene triangle\")"
   ]
  },
  {
   "cell_type": "markdown",
   "id": "1ce4b091",
   "metadata": {},
   "source": [
    "Q-13 Develop a program that checks if a year is a leap year and also if it is a century year."
   ]
  },
  {
   "cell_type": "code",
   "execution_count": 24,
   "id": "a047eaf3",
   "metadata": {},
   "outputs": [
    {
     "name": "stdout",
     "output_type": "stream",
     "text": [
      "1\n"
     ]
    }
   ],
   "source": [
    "def ISLP(y):\n",
    "  if((y % 400 == 0) or\n",
    "     (y % 100 != 0) and\n",
    "     (y % 4 == 0)):\n",
    "    return 1;\n",
    "  else:\n",
    "    return 0;\n",
    " \n",
    "# Driver code\n",
    "if __name__=='__main__':\n",
    " \n",
    "  year = 2020;\n",
    "  print(ISLP(year));"
   ]
  },
  {
   "cell_type": "markdown",
   "id": "b355b4e4",
   "metadata": {},
   "source": [
    "Q-14 Write a Python script to determine if a number is positive, negative, or zero."
   ]
  },
  {
   "cell_type": "code",
   "execution_count": 25,
   "id": "20b653e2",
   "metadata": {},
   "outputs": [
    {
     "name": "stdout",
     "output_type": "stream",
     "text": [
      "Input a number: 65\n",
      "Number is Positive number.\n"
     ]
    }
   ],
   "source": [
    "n = float(input(\"Input a number: \"))\n",
    "if n >= 0:\n",
    "  if n == 0:\n",
    "      print(\"It is Zero!\")\n",
    "  else:\n",
    "      print(\"Number is Positive number.\")\n",
    "else:\n",
    "  print(\"Number is Negative number.\")"
   ]
  },
  {
   "cell_type": "markdown",
   "id": "aa214d8d",
   "metadata": {},
   "source": [
    "Q-15 Create a program to check if a person is a teenager (between 13 and 19 years old)."
   ]
  },
  {
   "cell_type": "code",
   "execution_count": 26,
   "id": "078df99e",
   "metadata": {},
   "outputs": [
    {
     "name": "stdout",
     "output_type": "stream",
     "text": [
      "Please enter a persons age.56\n",
      "The person is not an infant.\n",
      "The person is a child.\n",
      "The person is not a teenager.\n",
      "The person is an adult.\n"
     ]
    }
   ],
   "source": [
    "age = int(input('Please enter a persons age.'))\n",
    "if age <= 1: print('The person is an infant.')\n",
    "else: print('The person is not an infant.')\n",
    "if age > 1 and age > 13: print('The person is a child.')\n",
    "else: print ('The person is not an infant.')\n",
    "if age <= 13 and age > 20: print('The person is a teenager.')\n",
    "else: print ('The person is not a teenager.')\n",
    "if age >=20: print ('The person is an adult.')"
   ]
  },
  {
   "cell_type": "markdown",
   "id": "c94c68a9",
   "metadata": {},
   "source": [
    "Q-16 Develop a program that determines the type of angle based on its measure (acute, obtuse, or right)."
   ]
  },
  {
   "cell_type": "code",
   "execution_count": 30,
   "id": "1e828c86",
   "metadata": {},
   "outputs": [
    {
     "name": "stdout",
     "output_type": "stream",
     "text": [
      "enter the number of 1 : 7\n",
      "enter the number of 2 : 8\n",
      "enter the number of 3 : 9\n",
      "acute angle\n",
      "obtuse angle\n"
     ]
    }
   ],
   "source": [
    "A = int(input(\"enter the number of 1 : \"))\n",
    "B = int(input(\"enter the number of 2 : \"))\n",
    "C = int(input(\"enter the number of 3 : \"))\n",
    "\n",
    "if(A+B+C <= 90):\n",
    "    print(\"acute angle\")\n",
    "if(  90>A<=180 or 90>B<=180 or 90>C<=180 ):\n",
    "    print(\"obtuse angle\")\n",
    "if(A+B+C > 180):\n",
    "    print(\"NOT TRIANGLE\")\n",
    "    \n",
    "if(A==90 or B==90 or C==90):\n",
    "    print(\"carpenter's triangle\")\n"
   ]
  },
  {
   "cell_type": "markdown",
   "id": "31395d5e",
   "metadata": {},
   "source": [
    "Q-17 Write a Python program to calculate the roots of a quadratic equation."
   ]
  },
  {
   "cell_type": "code",
   "execution_count": 32,
   "id": "ec65bc18",
   "metadata": {},
   "outputs": [
    {
     "name": "stdout",
     "output_type": "stream",
     "text": [
      "real and different roots\n",
      "2.0\n",
      "-12.0\n"
     ]
    }
   ],
   "source": [
    "import math\n",
    " \n",
    " \n",
    "# function for finding roots\n",
    "def equationroots( a, b, c):\n",
    " \n",
    "\n",
    "    dis = b * b - 4 * a * c\n",
    "    sqrt_val = math.sqrt(abs(dis))\n",
    "     \n",
    "\n",
    "    if dis > 0:\n",
    "        print(\"real and different roots\")\n",
    "        print((-b + sqrt_val)/(2 * a))\n",
    "        print((-b - sqrt_val)/(2 * a))\n",
    "     \n",
    "    elif dis == 0:\n",
    "        print(\"real and same roots\")\n",
    "        print(-b / (2 * a))\n",
    "     \n",
    "    else:\n",
    "        print(\"Complex Roots\")\n",
    "        print(- b / (2 * a), + i, sqrt_val)\n",
    "        print(- b / (2 * a), - i, sqrt_val)\n",
    " \n",
    "# Driver Program\n",
    "a = 1\n",
    "b = 10\n",
    "c = -24\n",
    " \n",
    "if a == 0:\n",
    "        print(\"Input correct quadratic equation\")\n",
    " \n",
    "else:\n",
    "    equationroots(a, b, c)"
   ]
  },
  {
   "cell_type": "markdown",
   "id": "a325a82d",
   "metadata": {},
   "source": [
    "Q-18 Implement a program to determine the day of the week based on a user-provided number (1 for Monday, 2\n",
    "for Tuesday, etc.)."
   ]
  },
  {
   "cell_type": "code",
   "execution_count": 33,
   "id": "bb324423",
   "metadata": {},
   "outputs": [
    {
     "name": "stdout",
     "output_type": "stream",
     "text": [
      "Enter a number from 1 to 7: 5\n",
      "5 is Thursday\n"
     ]
    }
   ],
   "source": [
    "day = int(input(\"Enter a number from 1 to 7: \"))\n",
    "\n",
    "if day == 1:\n",
    "    print(day, \"is Sunday\")\n",
    "elif day == 2:\n",
    "    print(day, \"is Monday\")\n",
    "elif day == 3:\n",
    "    print(day, \"is Tuesday\")\n",
    "elif day == 4:\n",
    "    print(day, \"is Wednesday\")\n",
    "elif day == 5:\n",
    "    print(day, \"is Thursday\")\n",
    "elif day == 6:\n",
    "    print(day, \"is Friday\")\n",
    "elif day == 7:\n",
    "    print(day, \"is Saturday\")\n",
    "else:\n",
    "    print(\"Wrong input! Please enter a number from 1 to 7.\")"
   ]
  },
  {
   "cell_type": "markdown",
   "id": "b7ec7248",
   "metadata": {},
   "source": [
    "Q-19 Create a program that determines if a year is a leap year and also if it is evenly divisible by 400."
   ]
  },
  {
   "cell_type": "code",
   "execution_count": 34,
   "id": "15242cd3",
   "metadata": {},
   "outputs": [
    {
     "name": "stdout",
     "output_type": "stream",
     "text": [
      "Enter year to be checked:2021\n",
      "The year isn't a leap year!\n"
     ]
    }
   ],
   "source": [
    "year=int(input(\"Enter year to be checked:\"))\n",
    "if(year%4==0 and year%100!=0 or year%400==0):\n",
    "    print(\"The year is a leap year!\")\n",
    "else:\n",
    "    print(\"The year isn't a leap year!\")"
   ]
  },
  {
   "cell_type": "markdown",
   "id": "c108c598",
   "metadata": {},
   "source": [
    "Q-20 Develop a program that checks if a given number is prime or not using nested if-else statements."
   ]
  },
  {
   "cell_type": "code",
   "execution_count": 40,
   "id": "1022f4a4",
   "metadata": {},
   "outputs": [
    {
     "name": "stdout",
     "output_type": "stream",
     "text": [
      "29 is a prime number\n"
     ]
    }
   ],
   "source": [
    "num = 29\n",
    "\n",
    "flag = False\n",
    "\n",
    "if num == 1:\n",
    "    print(num, \"is not a prime number\")\n",
    "elif num > 1:\n",
    "  \n",
    "    for i in range(2, num):\n",
    "        if (num % i) == 0:\n",
    "            \n",
    "            flag = True\n",
    "         \n",
    "            break\n",
    "\n",
    "\n",
    "    if flag:\n",
    "        print(num, \"is not a prime number\")\n",
    "    else:\n",
    "        print(num, \"is a prime number\")\n"
   ]
  },
  {
   "cell_type": "markdown",
   "id": "5a4da181",
   "metadata": {},
   "source": [
    "# Elif Statements:"
   ]
  },
  {
   "cell_type": "markdown",
   "id": "4e5f3b79",
   "metadata": {},
   "source": [
    "Q-21 Write a Python program to assign grades based on different ranges of scores using elif statements."
   ]
  },
  {
   "cell_type": "code",
   "execution_count": 41,
   "id": "a40cc289",
   "metadata": {},
   "outputs": [
    {
     "name": "stdout",
     "output_type": "stream",
     "text": [
      "Enter Marks Obtained in 5 Subjects: \n",
      "56\n",
      "98\n",
      "67\n",
      "89\n",
      "90\n",
      "Your Grade is B1\n"
     ]
    }
   ],
   "source": [
    "print(\"Enter Marks Obtained in 5 Subjects: \")\n",
    "markOne = int(input())\n",
    "markTwo = int(input())\n",
    "markThree = int(input())\n",
    "markFour = int(input())\n",
    "markFive = int(input())\n",
    "\n",
    "tot = markOne+markTwo+markThree+markFour+markFive\n",
    "avg = tot/5\n",
    "\n",
    "if avg>=91 and avg<=100:\n",
    "    print(\"Your Grade is A1\")\n",
    "elif avg>=81 and avg<91:\n",
    "    print(\"Your Grade is A2\")\n",
    "elif avg>=71 and avg<81:\n",
    "    print(\"Your Grade is B1\")\n",
    "elif avg>=61 and avg<71:\n",
    "    print(\"Your Grade is B2\")\n",
    "elif avg>=51 and avg<61:\n",
    "    print(\"Your Grade is C1\")\n",
    "elif avg>=41 and avg<51:\n",
    "    print(\"Your Grade is C2\")\n",
    "elif avg>=33 and avg<41:\n",
    "    print(\"Your Grade is D\")\n",
    "elif avg>=21 and avg<33:\n",
    "    print(\"Your Grade is E1\")\n",
    "elif avg>=0 and avg<21:\n",
    "    print(\"Your Grade is E2\")\n",
    "else:\n",
    "    print(\"Invalid Input!\")"
   ]
  },
  {
   "cell_type": "markdown",
   "id": "b4ca4500",
   "metadata": {},
   "source": [
    "Q-22 Implement a program to determine the type of a triangle based on its angles."
   ]
  },
  {
   "cell_type": "code",
   "execution_count": 42,
   "id": "72c888ed",
   "metadata": {},
   "outputs": [
    {
     "name": "stdout",
     "output_type": "stream",
     "text": [
      "Enter length of side a: 5\n",
      "Enter length of side b: 7\n",
      "Enter length of side c: 8\n",
      "Triangle is Scalane\n"
     ]
    }
   ],
   "source": [
    "def is_valid_triangle(a,b,c):\n",
    "    if a+b>=c and b+c>=a and c+a>=b:\n",
    "        return True\n",
    "    else:\n",
    "        return False\n",
    "\n",
    "# Function definition for type\n",
    "def type_of_triangle(a,b,c):\n",
    "    if a==b and b==c:\n",
    "        print('Triangle is Equilateral.')\n",
    "    elif a==b or b==c or a==c:\n",
    "        print('Triangle is Isosceles.')\n",
    "    else:\n",
    "        print('Triangle is Scalane')\n",
    "\n",
    "# Reading Three Sides\n",
    "side_a = float(input('Enter length of side a: '))\n",
    "side_b = float(input('Enter length of side b: '))\n",
    "side_c = float(input('Enter length of side c: '))\n",
    "\n",
    "# Function call & making decision\n",
    "if is_valid_triangle(side_a, side_b, side_c):\n",
    "    type_of_triangle(side_a, side_b, side_c)\n",
    "else:\n",
    "    print('Tringle is not possible from given sides.')"
   ]
  },
  {
   "cell_type": "markdown",
   "id": "0440bad3",
   "metadata": {},
   "source": [
    "Q-23 Develop a program to categorize a given person's BMI into underweight, normal, overweight, or obese using\n",
    "elif statements."
   ]
  },
  {
   "cell_type": "code",
   "execution_count": 45,
   "id": "73c4a1c6",
   "metadata": {},
   "outputs": [
    {
     "name": "stdout",
     "output_type": "stream",
     "text": [
      "Enter your height in meters: 1.8\n",
      "Enter your weight in kg: 59\n",
      "Welcome to the BMI calculator.\n",
      "Your BMI is:  18.21\n",
      "You are underweight.\n"
     ]
    }
   ],
   "source": [
    "#Simple BMI calculator using python\n",
    "\n",
    "def bodymassindex(height, weight):\n",
    "    return round((weight / height**2),2)\n",
    "\n",
    "\n",
    "h = float(input(\"Enter your height in meters: \"))\n",
    "w = float(input(\"Enter your weight in kg: \"))\n",
    "\n",
    "\n",
    "print(\"Welcome to the BMI calculator.\")\n",
    "\n",
    "bmi = bodymassindex(h, w)\n",
    "print(\"Your BMI is: \", bmi)\n",
    "\n",
    "\n",
    "if bmi <= 18.5:\n",
    "    print(\"You are underweight.\")\n",
    "elif 18.5 < bmi <= 24.9:\n",
    "    print(\"Your weight is normal.\")\n",
    "elif 25 < bmi <= 29.29:\n",
    "    print(\"You are overweight.\")\n",
    "else:\n",
    "    print(\"You are obese.\")"
   ]
  },
  {
   "cell_type": "markdown",
   "id": "c94f32cb",
   "metadata": {},
   "source": [
    "Q-24 Create a program that determines whether a given number is positive, negative, or zero using elif\n",
    "statements."
   ]
  },
  {
   "cell_type": "code",
   "execution_count": 46,
   "id": "cc8b1f33",
   "metadata": {},
   "outputs": [
    {
     "name": "stdout",
     "output_type": "stream",
     "text": [
      "Enter a number as input value: 23\n",
      "Number given by you is Positive\n"
     ]
    }
   ],
   "source": [
    "def NumberCheck(a):   \n",
    "  \n",
    "    if a > 0:   \n",
    "        print(\"Number given by you is Positive\")   \n",
    "\n",
    "    elif a < 0:   \n",
    "        print(\"Number given by you is Negative\")   \n",
    " \n",
    "    else:   \n",
    "        print(\"Number given by you is zero\")  \n",
    "\n",
    "a = float(input(\"Enter a number as input value: \"))  \n",
    " \n",
    "NumberCheck(a)  "
   ]
  },
  {
   "cell_type": "markdown",
   "id": "925ce1a2",
   "metadata": {},
   "source": [
    "Q-25 Write a Python script to determine the type of a character (uppercase, lowercase, or special) using elif\n",
    "statements."
   ]
  },
  {
   "cell_type": "code",
   "execution_count": 47,
   "id": "5fc072bf",
   "metadata": {},
   "outputs": [
    {
     "name": "stdout",
     "output_type": "stream",
     "text": [
      "Enter a character: pawan\n",
      "pawan is a lower case letter.\n"
     ]
    }
   ],
   "source": [
    "character = input(\"Enter a character: \")\n",
    "\n",
    "lowerLetters = \"abcdefghijklmnopqrstuvwxyz\"\n",
    "upperLetters = \"ABCDEFGHIJKLMNOPQRSTUVWXYZ\"\n",
    "digits = \"0123456789\"\n",
    "lowerCount = 0\n",
    "upperCount = 0\n",
    "digitCount = 0\n",
    "nonAlphaCount = 0\n",
    "\n",
    "for ch in character:\n",
    "    for ch in lowerLetters:\n",
    "        lowerCount += 1\n",
    "    for ch in upperLetters:\n",
    "        upperCount += 1\n",
    "    for ch in digits:\n",
    "        digitCount += 1\n",
    "    else:\n",
    "        nonAlphaCount += 1\n",
    "\n",
    "if lowerCount > 0:\n",
    "    print(character, \"is a lower case letter.\")\n",
    "elif upperCount > 0:\n",
    "    print(character, \"is an upper case letter.\")\n",
    "elif digitCount > 0:\n",
    "    print(character, \"is a digit.\")\n",
    "elif nonAlphaCount > 0:\n",
    "    print(character, \"is a non-alphanumeric character.\")"
   ]
  },
  {
   "cell_type": "markdown",
   "id": "2ab398e6",
   "metadata": {},
   "source": [
    "Q-26 Implement a program to calculate the discounted price based on different purchase amounts using elif\n",
    "statements."
   ]
  },
  {
   "cell_type": "code",
   "execution_count": 48,
   "id": "214c002a",
   "metadata": {},
   "outputs": [
    {
     "name": "stdout",
     "output_type": "stream",
     "text": [
      "Enter purchase amount 5677\n",
      "Discount Amount = 67.70\n",
      "Net Bill Amount = 5609.30\n"
     ]
    }
   ],
   "source": [
    "p=int(input('Enter purchase amount '))\n",
    "\n",
    "if p<=5000:\n",
    "    dis=0\n",
    "elif p>5000 and p<=10000:\n",
    "    dis=(p-5000)*(10/100.0)\n",
    "elif p>10000 and p<=20000:\n",
    "    dis=(p-10000)*(20/100.0)\n",
    "elif p>20000 and p<=30000:\n",
    "    dis=(p-20000)*(30/100.0)\n",
    "else:\n",
    "    dis=(p-30000)*(40/100.0)\n",
    "\n",
    "print('Discount Amount = {:.2f}'.format(dis))\n",
    "print('Net Bill Amount = {:.2f}'.format(p-dis))"
   ]
  },
  {
   "cell_type": "markdown",
   "id": "98042007",
   "metadata": {},
   "source": [
    "Q-27 Develop a program to calculate the electricity bill based on different consumption slabs using elif\n",
    "statements."
   ]
  },
  {
   "cell_type": "code",
   "execution_count": 49,
   "id": "5edf8d5e",
   "metadata": {},
   "outputs": [
    {
     "name": "stdout",
     "output_type": "stream",
     "text": [
      "please enter the number of units you consumed in a month45\n",
      "\n",
      "Electicity bill=92.50\n"
     ]
    }
   ],
   "source": [
    "units=int(input(\"please enter the number of units you consumed in a month\"))\n",
    "if(units<=100):\n",
    "    payAmount=units*1.5\n",
    "    fixedcharge=25.00\n",
    "elif(units<=200):\n",
    "    payAmount=(100*1.5)+(units-100)*2.5\n",
    "    fixedcharge=50.00\n",
    "elif(units<=300):\n",
    "    payAmount=(100*1.5)+(200-100)*2.5+(units-200)*4\n",
    "    fixedcharge=75.00\n",
    "elif(units<=350):\n",
    "    payAmount=(100*1.5)+(200-100)*2.5+(300-200)*4+(units-300)*5\n",
    "    fixedcharge=100.00\n",
    "else:\n",
    "    payAmount=0\n",
    "    fixedcharge=1500.00\n",
    "Total=payAmount+fixedcharge;\n",
    "print(\"\\nElecticity bill=%.2f\" %Total)"
   ]
  },
  {
   "cell_type": "markdown",
   "id": "71775168",
   "metadata": {},
   "source": [
    "Q-28 Create a program to determine the type of quadrilateral based on its angles and sides using elif\n",
    "statements."
   ]
  },
  {
   "cell_type": "code",
   "execution_count": 50,
   "id": "3534f990",
   "metadata": {},
   "outputs": [
    {
     "name": "stdout",
     "output_type": "stream",
     "text": [
      "75.0 , 85.0 , 95.0 , 105.0\n"
     ]
    }
   ],
   "source": [
    "d = 10\n",
    "a = 0.0\n",
    " \n",
    "a=(360 - (6 * d)) / 4\n",
    " \n",
    "\n",
    "print(a,\",\", a + d, \",\", a + 2 * d,\n",
    "        \",\", a + 3 * d, sep = ' ')"
   ]
  },
  {
   "cell_type": "markdown",
   "id": "2056ec0e",
   "metadata": {},
   "source": [
    "Q-29 Write a Python script to determine the season based on a user-provided month using elif statements."
   ]
  },
  {
   "cell_type": "code",
   "execution_count": 51,
   "id": "d30fab33",
   "metadata": {},
   "outputs": [
    {
     "name": "stdout",
     "output_type": "stream",
     "text": [
      "Input the month (e.g. January, February etc.): April\n",
      "Input the day: 19\n",
      "Season is spring\n"
     ]
    }
   ],
   "source": [
    "month = input(\"Input the month (e.g. January, February etc.): \")\n",
    "day = int(input(\"Input the day: \"))\n",
    "\n",
    "if month in ('January', 'February', 'March'):\n",
    "\tseason = 'winter'\n",
    "elif month in ('April', 'May', 'June'):\n",
    "\tseason = 'spring'\n",
    "elif month in ('July', 'August', 'September'):\n",
    "\tseason = 'summer'\n",
    "else:\n",
    "\tseason = 'autumn'\n",
    "\n",
    "if (month == 'March') and (day > 19):\n",
    "\tseason = 'spring'\n",
    "elif (month == 'June') and (day > 20):\n",
    "\tseason = 'summer'\n",
    "elif (month == 'September') and (day > 21):\n",
    "\tseason = 'autumn'\n",
    "elif (month == 'December') and (day > 20):\n",
    "\tseason = 'winter'\n",
    "\n",
    "print(\"Season is\",season)\n"
   ]
  },
  {
   "cell_type": "markdown",
   "id": "8b6a9d79",
   "metadata": {},
   "source": [
    "Q-30 Implement a program to determine the type of a year (leap or common) and month (30 or 31 days) using\n",
    "elif statements."
   ]
  },
  {
   "cell_type": "code",
   "execution_count": 52,
   "id": "eca6f9a1",
   "metadata": {},
   "outputs": [
    {
     "name": "stdout",
     "output_type": "stream",
     "text": [
      "2000 is a leap year\n"
     ]
    }
   ],
   "source": [
    "# Python program to check if year is a leap year or not\n",
    "\n",
    "year = 2000\n",
    "\n",
    "# To get year (integer input) from the user\n",
    "# year = int(input(\"Enter a year: \"))\n",
    "\n",
    "# divided by 100 means century year (ending with 00)\n",
    "# century year divided by 400 is leap year\n",
    "if (year % 400 == 0) and (year % 100 == 0):\n",
    "    print(\"{0} is a leap year\".format(year))\n",
    "\n",
    "# not divided by 100 means not a century year\n",
    "# year divided by 4 is a leap year\n",
    "elif (year % 4 ==0) and (year % 100 != 0):\n",
    "    print(\"{0} is a leap year\".format(year))\n",
    "\n",
    "# if not divided by both 400 (century year) and 4 (not century year)\n",
    "# year is not leap year\n",
    "else:\n",
    "    print(\"{0} is not a leap year\".format(year))"
   ]
  },
  {
   "cell_type": "markdown",
   "id": "990c903c",
   "metadata": {},
   "source": [
    "# Part-2"
   ]
  },
  {
   "cell_type": "markdown",
   "id": "fd2b5f75",
   "metadata": {},
   "source": [
    "Q-1 Write a Python program that checks if a given number is positive, negative, or zero."
   ]
  },
  {
   "cell_type": "code",
   "execution_count": 54,
   "id": "7def5e94",
   "metadata": {},
   "outputs": [
    {
     "name": "stdout",
     "output_type": "stream",
     "text": [
      "Input a number: 45\n",
      "Number is Positive number.\n"
     ]
    }
   ],
   "source": [
    "n = float(input(\"Input a number: \"))\n",
    "if n >= 0:\n",
    "  if n == 0:\n",
    "      print(\"It is Zero!\")\n",
    "  else:\n",
    "      print(\"Number is Positive number.\")\n",
    "else:\n",
    "  print(\"Number is Negative number.\")"
   ]
  },
  {
   "cell_type": "markdown",
   "id": "61bd07db",
   "metadata": {},
   "source": [
    "Q-2 Create a program to determine if a person is eligible to vote based on their age."
   ]
  },
  {
   "cell_type": "code",
   "execution_count": 55,
   "id": "6b3fc754",
   "metadata": {},
   "outputs": [
    {
     "name": "stdout",
     "output_type": "stream",
     "text": [
      "Enter age : 34\n",
      "Eligible for Voting!\n"
     ]
    }
   ],
   "source": [
    "age = int(input(\"Enter age : \"))\n",
    "\n",
    "if age >= 18:\n",
    "    print(\"Eligible for Voting!\")\n",
    "else:\n",
    "    print(\"Not Eligible for Voting!\")"
   ]
  },
  {
   "cell_type": "markdown",
   "id": "1fb225c8",
   "metadata": {},
   "source": [
    "Q-3 Write a program to find the maximum of two given numbers using conditional statements."
   ]
  },
  {
   "cell_type": "code",
   "execution_count": 56,
   "id": "60b519ee",
   "metadata": {},
   "outputs": [
    {
     "name": "stdout",
     "output_type": "stream",
     "text": [
      "Enter the first number: 3\n",
      "Enter the second number: 7\n",
      "7 is greater\n"
     ]
    }
   ],
   "source": [
    "num1 = int(input(\"Enter the first number: \"))\n",
    "num2 = int(input(\"Enter the second number: \"))\n",
    "\n",
    "# printing the maximum value\n",
    "if(num1 > num2):\n",
    "  print(num1, \"is greater\")\n",
    "elif(num1 < num2):\n",
    "    print(num2, \"is greater\")\n",
    "else:\n",
    "    print(\"Both are equal\")\n"
   ]
  },
  {
   "cell_type": "markdown",
   "id": "4710f62e",
   "metadata": {},
   "source": [
    "Q-4 Develop a program that calculates the grade of a student based on their exam score."
   ]
  },
  {
   "cell_type": "code",
   "execution_count": 58,
   "id": "6a86f646",
   "metadata": {},
   "outputs": [
    {
     "name": "stdout",
     "output_type": "stream",
     "text": [
      "Enter Marks Obtained in 5 Subjects: \n",
      "56\n",
      "90\n",
      "90\n",
      "90\n",
      "89\n",
      "Your Grade is A2\n"
     ]
    }
   ],
   "source": [
    "print(\"Enter Marks Obtained in 5 Subjects: \")\n",
    "markOne = int(input())\n",
    "markTwo = int(input())\n",
    "markThree = int(input())\n",
    "markFour = int(input())\n",
    "markFive = int(input())\n",
    "\n",
    "tot = markOne+markTwo+markThree+markFour+markFive\n",
    "avg = tot/5\n",
    "\n",
    "if avg>=91 and avg<=100:\n",
    "    print(\"Your Grade is A1\")\n",
    "elif avg>=81 and avg<91:\n",
    "    print(\"Your Grade is A2\")\n",
    "elif avg>=71 and avg<81:\n",
    "    print(\"Your Grade is B1\")\n",
    "elif avg>=61 and avg<71:\n",
    "    print(\"Your Grade is B2\")\n",
    "elif avg>=51 and avg<61:\n",
    "    print(\"Your Grade is C1\")\n",
    "elif avg>=41 and avg<51:\n",
    "    print(\"Your Grade is C2\")\n",
    "elif avg>=33 and avg<41:\n",
    "    print(\"Your Grade is D\")\n",
    "elif avg>=21 and avg<33:\n",
    "    print(\"Your Grade is E1\")\n",
    "elif avg>=0 and avg<21:\n",
    "    print(\"Your Grade is E2\")\n",
    "else:\n",
    "    print(\"Invalid Input!\")"
   ]
  },
  {
   "cell_type": "markdown",
   "id": "2fb6fca8",
   "metadata": {},
   "source": [
    "Q-5 Create a program that checks if a year is a leap year or not."
   ]
  },
  {
   "cell_type": "code",
   "execution_count": 59,
   "id": "673757a5",
   "metadata": {},
   "outputs": [],
   "source": [
    "def check_leap_year(year):\n",
    "    \n",
    "    if year % 4 == 0:\n",
    "        if year % 100 == 0:\n",
    "            if year % 400 == 0:\n",
    "                print(f\"{year} is a leap year\")\n",
    "            else:\n",
    "                print(f\"{year} is not a leap year\")\n",
    "        else:\n",
    "            print(f\"{year} is a leap year\")\n",
    "    else:\n",
    "        print(f\"{year} is not a leap year\")"
   ]
  },
  {
   "cell_type": "code",
   "execution_count": 60,
   "id": "30cd145c",
   "metadata": {},
   "outputs": [
    {
     "name": "stdout",
     "output_type": "stream",
     "text": [
      "2018 is not a leap year\n"
     ]
    }
   ],
   "source": [
    "check_leap_year(2018)"
   ]
  },
  {
   "cell_type": "markdown",
   "id": "a3aee3c8",
   "metadata": {},
   "source": [
    "Q-6 Write a program to classify a triangle based on its sides' lengths."
   ]
  },
  {
   "cell_type": "code",
   "execution_count": 61,
   "id": "88cd881e",
   "metadata": {},
   "outputs": [
    {
     "name": "stdout",
     "output_type": "stream",
     "text": [
      "Enter length of side a: 5\n",
      "Enter length of side b: 7\n",
      "Enter length of side c: 9\n",
      "Triangle is Scalane\n"
     ]
    }
   ],
   "source": [
    "def is_valid_triangle(a,b,c):\n",
    "    if a+b>=c and b+c>=a and c+a>=b:\n",
    "        return True\n",
    "    else:\n",
    "        return False\n",
    "\n",
    "# Function definition for type\n",
    "def type_of_triangle(a,b,c):\n",
    "    if a==b and b==c:\n",
    "        print('Triangle is Equilateral.')\n",
    "    elif a==b or b==c or a==c:\n",
    "        print('Triangle is Isosceles.')\n",
    "    else:\n",
    "        print('Triangle is Scalane')\n",
    "\n",
    "# Reading Three Sides\n",
    "side_a = float(input('Enter length of side a: '))\n",
    "side_b = float(input('Enter length of side b: '))\n",
    "side_c = float(input('Enter length of side c: '))\n",
    "\n",
    "# Function call & making decision\n",
    "if is_valid_triangle(side_a, side_b, side_c):\n",
    "    type_of_triangle(side_a, side_b, side_c)\n",
    "else:\n",
    "    print('Tringle is not possible from given sides.')"
   ]
  },
  {
   "cell_type": "markdown",
   "id": "1d59380e",
   "metadata": {},
   "source": [
    "Q-7 Build a program that determines the largest of three given numbers."
   ]
  },
  {
   "cell_type": "code",
   "execution_count": 63,
   "id": "1d28de78",
   "metadata": {},
   "outputs": [
    {
     "name": "stdout",
     "output_type": "stream",
     "text": [
      "The largest number is 14\n"
     ]
    }
   ],
   "source": [
    "num1 = 10\n",
    "num2 = 14\n",
    "num3 = 12\n",
    "\n",
    "\n",
    "\n",
    "if (num1 >= num2) and (num1 >= num3):\n",
    "   largest = num1\n",
    "elif (num2 >= num1) and (num2 >= num3):\n",
    "   largest = num2\n",
    "else:\n",
    "   largest = num3\n",
    "\n",
    "print(\"The largest number is\", largest)"
   ]
  },
  {
   "cell_type": "markdown",
   "id": "9c8f4b95",
   "metadata": {},
   "source": [
    "Q-8 Develop a program that checks whether a character is a vowel or a consonant."
   ]
  },
  {
   "cell_type": "code",
   "execution_count": 66,
   "id": "049e6eca",
   "metadata": {},
   "outputs": [
    {
     "name": "stdout",
     "output_type": "stream",
     "text": [
      "Enter a character: lucky\n",
      "The character 'lucky' is a consonant!\n"
     ]
    }
   ],
   "source": [
    " character = input(\"Enter a character: \")  \n",
    "  \n",
    "# Creating a list of vowels  \n",
    "vowels = ['a', 'e', 'i', 'o', 'u', 'A', 'E', 'I', 'O', 'U']  \n",
    "  \n",
    "# Check if the character is a vowel or not  \n",
    "if character in vowels:  \n",
    "    print(f\"The character '{character}' is a vowel!\")  \n",
    "else:  \n",
    "    print(f\"The character '{character}' is a consonant!\")  "
   ]
  },
  {
   "cell_type": "markdown",
   "id": "60ff4456",
   "metadata": {},
   "source": [
    "Q-9 Create a program to calculate the total cost of a shopping cart based on discounts."
   ]
  },
  {
   "cell_type": "code",
   "execution_count": 69,
   "id": "57375dc6",
   "metadata": {},
   "outputs": [
    {
     "name": "stdout",
     "output_type": "stream",
     "text": [
      "How many drinks do you want?\n",
      "Enter number: 6\n",
      "That will be a total of:  6 dollars\n"
     ]
    }
   ],
   "source": [
    "print( \"How many drinks do you want?\" )\n",
    "\n",
    "drinks = input( \"Enter number: \")\n",
    "\n",
    "total = int(drinks)\n",
    "\n",
    "single = 2.25\n",
    "\n",
    "six = 10\n",
    "\n",
    "single * 6 ==six\n",
    "\n",
    "if total > 20:\n",
    "\n",
    "    total * 0.75\n",
    "\n",
    "print( \"That will be a total of: \", total, \"dollars\")"
   ]
  },
  {
   "cell_type": "markdown",
   "id": "e9696d10",
   "metadata": {},
   "source": [
    "Q-10 Write a program that checks if a given number is even or odd."
   ]
  },
  {
   "cell_type": "code",
   "execution_count": 70,
   "id": "d9ad0c80",
   "metadata": {},
   "outputs": [
    {
     "name": "stdout",
     "output_type": "stream",
     "text": [
      "Enter a number: 56\n",
      "56 is Even\n"
     ]
    }
   ],
   "source": [
    "num = int(input(\"Enter a number: \"))\n",
    "if (num % 2) == 0:\n",
    "   print(\"{0} is Even\".format(num))\n",
    "else:\n",
    "   print(\"{0} is Odd\".format(num))"
   ]
  },
  {
   "cell_type": "markdown",
   "id": "25bd33ae",
   "metadata": {},
   "source": [
    "Q-11Write a program that calculates the roots of a quadratic equation ."
   ]
  },
  {
   "cell_type": "code",
   "execution_count": 71,
   "id": "a61b0ab7",
   "metadata": {},
   "outputs": [
    {
     "name": "stdout",
     "output_type": "stream",
     "text": [
      "real and different roots\n",
      "2.0\n",
      "-12.0\n"
     ]
    }
   ],
   "source": [
    "import math\n",
    " \n",
    " \n",
    "# function for finding roots\n",
    "def equationroots( a, b, c):\n",
    " \n",
    "    # calculating discriminant using formula\n",
    "    dis = b * b - 4 * a * c\n",
    "    sqrt_val = math.sqrt(abs(dis))\n",
    "     \n",
    "    # checking condition for discriminant\n",
    "    if dis > 0:\n",
    "        print(\"real and different roots\")\n",
    "        print((-b + sqrt_val)/(2 * a))\n",
    "        print((-b - sqrt_val)/(2 * a))\n",
    "     \n",
    "    elif dis == 0:\n",
    "        print(\"real and same roots\")\n",
    "        print(-b / (2 * a))\n",
    "     \n",
    "    # when discriminant is less than 0\n",
    "    else:\n",
    "        print(\"Complex Roots\")\n",
    "        print(- b / (2 * a), + i, sqrt_val)\n",
    "        print(- b / (2 * a), - i, sqrt_val)\n",
    " \n",
    "# Driver Program\n",
    "a = 1\n",
    "b = 10\n",
    "c = -24\n",
    " \n",
    "# If a is 0, then incorrect equation\n",
    "if a == 0:\n",
    "        print(\"Input correct quadratic equation\")\n",
    " \n",
    "else:\n",
    "    equationroots(a, b, c)"
   ]
  },
  {
   "cell_type": "markdown",
   "id": "1ec43404",
   "metadata": {},
   "source": [
    "Q-12 Create a program that determines the day of the week based on the day number (1-7)."
   ]
  },
  {
   "cell_type": "code",
   "execution_count": 72,
   "id": "ff6b5424",
   "metadata": {},
   "outputs": [
    {
     "name": "stdout",
     "output_type": "stream",
     "text": [
      "Enter weekday number (1-7) : 4\n",
      "\n",
      "Thursday\n"
     ]
    }
   ],
   "source": [
    "weekday = int(input(\"Enter weekday number (1-7) : \"))\n",
    "\n",
    "if weekday == 1 :\n",
    "    print(\"\\nMonday\");\n",
    "\n",
    "elif weekday == 2 :\n",
    "    print(\"\\nTuesday\")\n",
    "\n",
    "elif(weekday == 3) :\n",
    "    print(\"\\nWednesday\")\n",
    "\n",
    "elif(weekday == 4) :\n",
    "    print(\"\\nThursday\")\n",
    "\n",
    "elif(weekday == 5) :\n",
    "    print(\"\\nFriday\")\n",
    "\n",
    "elif(weekday == 6) :\n",
    "    print(\"\\nSaturday\")\n",
    "\n",
    "elif (weekday == 7) :\n",
    "    print(\"\\nSunday\")\n",
    "\n",
    "else :\n",
    "    print(\"\\nPlease enter any weekday number (1-7)\")"
   ]
  },
  {
   "cell_type": "markdown",
   "id": "f977d6fd",
   "metadata": {},
   "source": [
    "Q-13 Develop a program that calculates the factorial of a given number using recursion."
   ]
  },
  {
   "cell_type": "code",
   "execution_count": 75,
   "id": "5821bdab",
   "metadata": {},
   "outputs": [
    {
     "name": "stdout",
     "output_type": "stream",
     "text": [
      "Enter a number: 5\n",
      "The factorial of 5 is 120\n"
     ]
    }
   ],
   "source": [
    "def recur_factorial(n):  \n",
    "   if n == 1:  \n",
    "       return n  \n",
    "   else:  \n",
    "       return n*recur_factorial(n-1)  \n",
    "# take input from the user  \n",
    "num = int(input(\"Enter a number: \"))  \n",
    "# check is the number is negative  \n",
    "if num < 0:  \n",
    "   print(\"Sorry, factorial does not exist for negative numbers\")  \n",
    "elif num == 0:  \n",
    "   print(\"The factorial of 0 is 1\")  \n",
    "else:  \n",
    "   print(\"The factorial of\",num,\"is\",recur_factorial(num))  "
   ]
  },
  {
   "cell_type": "markdown",
   "id": "982b7650",
   "metadata": {},
   "source": [
    "Q-14 Write a program to find the largest among three numbers without using the `max()` function."
   ]
  },
  {
   "cell_type": "code",
   "execution_count": 76,
   "id": "19249529",
   "metadata": {},
   "outputs": [
    {
     "name": "stdout",
     "output_type": "stream",
     "text": [
      "The largest number is 14\n"
     ]
    }
   ],
   "source": [
    "num1 = 10\n",
    "num2 = 14\n",
    "num3 = 12\n",
    "\n",
    "# uncomment following lines to take three numbers from user\n",
    "#num1 = float(input(\"Enter first number: \"))\n",
    "#num2 = float(input(\"Enter second number: \"))\n",
    "#num3 = float(input(\"Enter third number: \"))\n",
    "\n",
    "if (num1 >= num2) and (num1 >= num3):\n",
    "   largest = num1\n",
    "elif (num2 >= num1) and (num2 >= num3):\n",
    "   largest = num2\n",
    "else:\n",
    "   largest = num3\n",
    "\n",
    "print(\"The largest number is\", largest)"
   ]
  },
  {
   "cell_type": "markdown",
   "id": "c9c81be5",
   "metadata": {},
   "source": [
    "Q-15 Create a program that simulates a basic ATM transaction menu."
   ]
  },
  {
   "cell_type": "code",
   "execution_count": 88,
   "id": "454b9b1d",
   "metadata": {},
   "outputs": [],
   "source": [
    "class Bank_Account:\n",
    "    def __init__(self):\n",
    "        self.balance=0\n",
    "        print(\"Hello!!! Welcome to the Deposit & Withdrawal Machine\")\n",
    " \n",
    "    def deposit(self):\n",
    "        amount=float(input(\"Enter amount to be Deposited: \"))\n",
    "        self.balance += amount\n",
    "        print(\"\\n Amount Deposited:\",amount)\n",
    " \n",
    "    def withdraw(self):\n",
    "        amount = float(input(\"Enter amount to be Withdrawn: \"))\n",
    "        if self.balance>=amount:\n",
    "            self.balance-=amount\n",
    "            print(\"\\n You Withdrew:\", amount)\n",
    "        else:\n",
    "            print(\"\\n Insufficient balance  \")\n",
    " \n",
    "    def display(self):\n",
    "        print(\"\\n Net Available Balance=\",self.balance)\n",
    "   "
   ]
  },
  {
   "cell_type": "code",
   "execution_count": 87,
   "id": "48f58392",
   "metadata": {},
   "outputs": [
    {
     "name": "stdout",
     "output_type": "stream",
     "text": [
      "Hello!!! Welcome to the Deposit & Withdrawal Machine\n",
      "Enter amount to be Deposited: 5000\n",
      "\n",
      " Amount Deposited: 5000.0\n",
      "Enter amount to be Withdrawn: 1000\n",
      "\n",
      " You Withdrew: 1000.0\n",
      "\n",
      " Net Available Balance= 4000.0\n",
      "Hello!!! Welcome to the Deposit & Withdrawal Machine\n"
     ]
    }
   ],
   "source": [
    " s= Bank_Account()\n",
    "  \n",
    "\n",
    "s.deposit()\n",
    "s.withdraw()\n",
    "s.display()"
   ]
  },
  {
   "cell_type": "markdown",
   "id": "188287f8",
   "metadata": {},
   "source": [
    "Q-16 Build a program that checks if a given string is a palindrome or not."
   ]
  },
  {
   "cell_type": "code",
   "execution_count": 89,
   "id": "0c2c32a2",
   "metadata": {},
   "outputs": [
    {
     "name": "stdout",
     "output_type": "stream",
     "text": [
      "Yes\n"
     ]
    }
   ],
   "source": [
    "def isPalindrome(str):\n",
    " \n",
    "    # Run loop from 0 to len/2\n",
    "    for i in range(0, int(len(str)/2)):\n",
    "        if str[i] != str[len(str)-i-1]:\n",
    "            return False\n",
    "    return True\n",
    " \n",
    "# main function\n",
    "s = \"malayalam\"\n",
    "ans = isPalindrome(s)\n",
    " \n",
    "if (ans):\n",
    "    print(\"Yes\")\n",
    "else:\n",
    "    print(\"No\")"
   ]
  },
  {
   "cell_type": "markdown",
   "id": "87d60a14",
   "metadata": {},
   "source": [
    "Q-17 Write a program that calculates the average of a list of numbers, excluding the smallest and largest values."
   ]
  },
  {
   "cell_type": "code",
   "execution_count": 1,
   "id": "e4df71a7",
   "metadata": {},
   "outputs": [
    {
     "name": "stdout",
     "output_type": "stream",
     "text": [
      "Average of the list = 35.75\n"
     ]
    }
   ],
   "source": [
    "def Average(lst):\n",
    "    return sum(lst) / len(lst)\n",
    " \n",
    "# Driver Code\n",
    "lst = [15, 9, 55, 41, 35, 20, 62, 49]\n",
    "average = Average(lst)\n",
    " \n",
    "# Printing average of the list\n",
    "print(\"Average of the list =\", round(average, 2))"
   ]
  },
  {
   "cell_type": "markdown",
   "id": "a35ee8ea",
   "metadata": {},
   "source": [
    "Q-18 Develop a program that converts a given temperature from Celsius to Fahrenheit."
   ]
  },
  {
   "cell_type": "code",
   "execution_count": 2,
   "id": "78d34d33",
   "metadata": {},
   "outputs": [
    {
     "name": "stdout",
     "output_type": "stream",
     "text": [
      "Input the  temperature you like to convert? (e.g., 45F, 102C etc.) : 56\n",
      "Input proper convention.\n"
     ]
    },
    {
     "ename": "NameError",
     "evalue": "name 'o_convention' is not defined",
     "output_type": "error",
     "traceback": [
      "\u001b[0;31m---------------------------------------------------------------------------\u001b[0m",
      "\u001b[0;31mNameError\u001b[0m                                 Traceback (most recent call last)",
      "Cell \u001b[0;32mIn[2], line 14\u001b[0m\n\u001b[1;32m     12\u001b[0m   \u001b[38;5;28mprint\u001b[39m(\u001b[38;5;124m\"\u001b[39m\u001b[38;5;124mInput proper convention.\u001b[39m\u001b[38;5;124m\"\u001b[39m)\n\u001b[1;32m     13\u001b[0m   quit()\n\u001b[0;32m---> 14\u001b[0m \u001b[38;5;28mprint\u001b[39m(\u001b[38;5;124m\"\u001b[39m\u001b[38;5;124mThe temperature in\u001b[39m\u001b[38;5;124m\"\u001b[39m, o_convention, \u001b[38;5;124m\"\u001b[39m\u001b[38;5;124mis\u001b[39m\u001b[38;5;124m\"\u001b[39m, result, \u001b[38;5;124m\"\u001b[39m\u001b[38;5;124mdegrees.\u001b[39m\u001b[38;5;124m\"\u001b[39m)\n",
      "\u001b[0;31mNameError\u001b[0m: name 'o_convention' is not defined"
     ]
    }
   ],
   "source": [
    "temp = input(\"Input the  temperature you like to convert? (e.g., 45F, 102C etc.) : \")\n",
    "degree = int(temp[:-1])\n",
    "i_convention = temp[-1]\n",
    "\n",
    "if i_convention.upper() == \"C\":\n",
    "  result = int(round((9 * degree) / 5 + 32))\n",
    "  o_convention = \"Fahrenheit\"\n",
    "elif i_convention.upper() == \"F\":\n",
    "  result = int(round((degree - 32) * 5 / 9))\n",
    "  o_convention = \"Celsius\"\n",
    "else:\n",
    "  print(\"Input proper convention.\")\n",
    "  quit()\n",
    "print(\"The temperature in\", o_convention, \"is\", result, \"degrees.\")"
   ]
  },
  {
   "cell_type": "markdown",
   "id": "55900043",
   "metadata": {},
   "source": [
    "Q-19 Create a program that simulates a basic calculator for addition, subtraction, multiplication, and division."
   ]
  },
  {
   "cell_type": "code",
   "execution_count": null,
   "id": "cae9c335",
   "metadata": {},
   "outputs": [
    {
     "name": "stdout",
     "output_type": "stream",
     "text": [
      "Select operation.\n",
      "1.Add\n",
      "2.Subtract\n",
      "3.Multiply\n",
      "4.Divide\n",
      "Enter choice(1/2/3/4): 3\n",
      "Enter first number: 34\n",
      "Enter second number: 56\n",
      "34.0 * 56.0 = 1904.0\n"
     ]
    }
   ],
   "source": [
    "# This function adds two numbers\n",
    "def add(x, y):\n",
    "    return x + y\n",
    "\n",
    "# This function subtracts two numbers\n",
    "def subtract(x, y):\n",
    "    return x - y\n",
    "\n",
    "# This function multiplies two numbers\n",
    "def multiply(x, y):\n",
    "    return x * y\n",
    "\n",
    "# This function divides two numbers\n",
    "def divide(x, y):\n",
    "    return x / y\n",
    "\n",
    "\n",
    "print(\"Select operation.\")\n",
    "print(\"1.Add\")\n",
    "print(\"2.Subtract\")\n",
    "print(\"3.Multiply\")\n",
    "print(\"4.Divide\")\n",
    "\n",
    "while True:\n",
    "    # take input from the user\n",
    "    choice = input(\"Enter choice(1/2/3/4): \")\n",
    "\n",
    "    # check if choice is one of the four options\n",
    "    if choice in ('1', '2', '3', '4'):\n",
    "        try:\n",
    "            num1 = float(input(\"Enter first number: \"))\n",
    "            num2 = float(input(\"Enter second number: \"))\n",
    "        except ValueError:\n",
    "            print(\"Invalid input. Please enter a number.\")\n",
    "            continue\n",
    "\n",
    "        if choice == '1':\n",
    "            print(num1, \"+\", num2, \"=\", add(num1, num2))\n",
    "\n",
    "        elif choice == '2':\n",
    "            print(num1, \"-\", num2, \"=\", subtract(num1, num2))\n",
    "\n",
    "        elif choice == '3':\n",
    "            print(num1, \"*\", num2, \"=\", multiply(num1, num2))\n",
    "\n",
    "        elif choice == '4':\n",
    "            print(num1, \"/\", num2, \"=\", divide(num1, num2))\n",
    "        \n",
    "        # check if user wants another calculation\n",
    "        # break the while loop if answer is no\n",
    "        next_calculation = input(\"Let's do next calculation? (yes/no): \")\n",
    "        if next_calculation == \"no\":\n",
    "          break\n",
    "    else:\n",
    "        print(\"Invalid Input\")"
   ]
  },
  {
   "cell_type": "markdown",
   "id": "f2710d3b",
   "metadata": {},
   "source": [
    "Q-20 Write a program that determines the roots of a cubic equation using the Cardano formula."
   ]
  },
  {
   "cell_type": "code",
   "execution_count": 3,
   "id": "1e1c5bb9",
   "metadata": {},
   "outputs": [],
   "source": [
    "def findEquation(a, b, c):\n",
    "     \n",
    "    # Find the value of coefficient\n",
    "    X = (a + b + c);\n",
    "    Y = (a * b) + (b * c) + (c * a);\n",
    "    Z = (a * b * c);\n",
    " \n",
    "    # Print the equation as per the\n",
    "    # above coefficients\n",
    "    print(\"x^3 - \" , X ,\n",
    "          \"x^2 + \" ,Y ,\n",
    "          \"x - \" , Z , \" = 0\");\n",
    " \n"
   ]
  },
  {
   "cell_type": "code",
   "execution_count": 4,
   "id": "d5e53045",
   "metadata": {},
   "outputs": [
    {
     "name": "stdout",
     "output_type": "stream",
     "text": [
      "x^3 -  10 x^2 +  31 x -  30  = 0\n"
     ]
    }
   ],
   "source": [
    "if __name__ == '__main__':\n",
    "     \n",
    "    a = 5;\n",
    "    b = 2;\n",
    "    c = 3;\n",
    " \n",
    "    # Function Call\n",
    "    findEquation(a, b, c);"
   ]
  },
  {
   "cell_type": "markdown",
   "id": "b18f2e49",
   "metadata": {},
   "source": [
    "# Advanced Level:"
   ]
  },
  {
   "cell_type": "markdown",
   "id": "2c98e559",
   "metadata": {},
   "source": [
    "Q-21 Create a program that calculates the income tax based on the user's income and tax brackets."
   ]
  },
  {
   "cell_type": "code",
   "execution_count": 7,
   "id": "d58c2ae5",
   "metadata": {},
   "outputs": [
    {
     "name": "stdout",
     "output_type": "stream",
     "text": [
      "What's your                     annual income?\n",
      ">>> 1000000000\n",
      "Total tax applicable at                     ₹1000000000.0 is ₹299737500.0\n"
     ]
    }
   ],
   "source": [
    "def calculate(amount, percent):\n",
    "    return (amount * percent) / 100\n",
    "  \n",
    "def calculate_income_tax(total_income: \n",
    "                         float) -> float:\n",
    "  \n",
    "    if total_income <= 250000:\n",
    "        return 0\n",
    "    elif total_income <= 500000:\n",
    "        return calculate(total_income - \n",
    "                         250000, 5)\n",
    "    elif total_income <= 750000:\n",
    "        return calculate(total_income - \n",
    "                         500000, 10) + 12500\n",
    "    elif total_income <= 1000000:\n",
    "        return calculate(total_income - \n",
    "                         750000, 15) + 37500\n",
    "    elif total_income <= 1250000:\n",
    "        return calculate(total_income - \n",
    "                         1000000, 20) + 75000\n",
    "    elif total_income <= 1500000:\n",
    "        return calculate(total_income - \n",
    "                         1250000, 25) + 125000\n",
    "    else:\n",
    "        return calculate(total_income - \n",
    "                         1500000, 30) + 187500\n",
    "  \n",
    "  \n",
    "if __name__ == '__main__':\n",
    "    total_income = float(input(\"What's your \\\n",
    "                    annual income?\\n>>> \"))\n",
    "    tax = calculate_income_tax(total_income)\n",
    "    print(f\"Total tax applicable at \\\n",
    "                    ₹{total_income} is ₹{tax}\")"
   ]
  },
  {
   "cell_type": "markdown",
   "id": "2fedbec1",
   "metadata": {},
   "source": [
    "Q-22 Write a program that simulates a rock-paper-scissors game against the computer."
   ]
  },
  {
   "cell_type": "code",
   "execution_count": 8,
   "id": "605c3991",
   "metadata": {},
   "outputs": [
    {
     "name": "stdout",
     "output_type": "stream",
     "text": [
      "Select Rock, Paper, or Scissor :paper\n",
      "Player 2 selected:  paper\n",
      "Tie\n"
     ]
    }
   ],
   "source": [
    "import random\n",
    "\n",
    "player1 = input(\"Select Rock, Paper, or Scissor :\").lower()\n",
    "player2 = random.choice([\"Rock\", \"Paper\", \"Scissor\"]).lower()\n",
    "print(\"Player 2 selected: \", player2)\n",
    "\n",
    "if player1 == \"rock\" and player2 == \"paper\":\n",
    "    print(\"Player 2 Won\")\n",
    "elif player1 == \"paper\" and player2 == \"scissor\":\n",
    "    print(\"Player 2 Won\")\n",
    "elif player1 == \"scissor\" and player2 == \"rock\":\n",
    "    print(\"Player 2 Won\")\n",
    "elif player1 == player2:\n",
    "    print(\"Tie\")\n",
    "else:\n",
    "    print(\"Player 1 Won\")"
   ]
  },
  {
   "cell_type": "markdown",
   "id": "c7ef53e9",
   "metadata": {},
   "source": [
    "Q-23 Develop a program that generates a random password based on user preferences (length, complexity)."
   ]
  },
  {
   "cell_type": "code",
   "execution_count": 10,
   "id": "76956f8b",
   "metadata": {},
   "outputs": [
    {
     "name": "stdout",
     "output_type": "stream",
     "text": [
      "A randomly selected password is: ^cT^6azpO7sN\n"
     ]
    }
   ],
   "source": [
    "def generatePassword(n):\n",
    "    # defining the list of choices of characters.\n",
    "    characters = \"abcdefghijklmnopqrstuvwxyzABCDEFGHIJKLMNOPQRSTUVWXYZ123456789!@#$%^&*()\"\n",
    "\n",
    "   \n",
    "    password = \"\"\n",
    "\n",
    "    for i in range(n):\n",
    "        \n",
    "        password += random.choice(characters)\n",
    "\n",
    "   \n",
    "    return password\n",
    "\n",
    "\n",
    "if __name__ == \"__main__\":\n",
    "    n = 12\n",
    "    password = generatePassword(n)\n",
    "    print(\"A randomly selected password is:\", password)"
   ]
  },
  {
   "cell_type": "markdown",
   "id": "defd0d1a",
   "metadata": {},
   "source": [
    "Q-24 Create a program that implements a simple text-based adventure game with branching scenarios."
   ]
  },
  {
   "cell_type": "code",
   "execution_count": 11,
   "id": "6a4a3e90",
   "metadata": {},
   "outputs": [
    {
     "name": "stdout",
     "output_type": "stream",
     "text": [
      "Welcome to the Adventure Game!\n",
      "As an avid traveler, you have decided to visit the Catacombs of Paris.\n",
      "However, during your exploration, you find yourself lost.\n",
      "You can choose to walk in multiple directions to find a way out.\n",
      "Let's start with your name: \n",
      "pawan\n",
      "Good luck, pawan.\n"
     ]
    },
    {
     "ename": "NameError",
     "evalue": "name 'introScene' is not defined",
     "output_type": "error",
     "traceback": [
      "\u001b[0;31m---------------------------------------------------------------------------\u001b[0m",
      "\u001b[0;31mNameError\u001b[0m                                 Traceback (most recent call last)",
      "Cell \u001b[0;32mIn[11], line 10\u001b[0m\n\u001b[1;32m      8\u001b[0m name \u001b[38;5;241m=\u001b[39m \u001b[38;5;28minput\u001b[39m()\n\u001b[1;32m      9\u001b[0m \u001b[38;5;28mprint\u001b[39m(\u001b[38;5;124m\"\u001b[39m\u001b[38;5;124mGood luck, \u001b[39m\u001b[38;5;124m\"\u001b[39m \u001b[38;5;241m+\u001b[39mname\u001b[38;5;241m+\u001b[39m \u001b[38;5;124m\"\u001b[39m\u001b[38;5;124m.\u001b[39m\u001b[38;5;124m\"\u001b[39m)\n\u001b[0;32m---> 10\u001b[0m introScene()\n",
      "\u001b[0;31mNameError\u001b[0m: name 'introScene' is not defined"
     ]
    }
   ],
   "source": [
    "if __name__ == \"__main__\":\n",
    "  while True:\n",
    "    print(\"Welcome to the Adventure Game!\")\n",
    "    print(\"As an avid traveler, you have decided to visit the Catacombs of Paris.\")\n",
    "    print(\"However, during your exploration, you find yourself lost.\")\n",
    "    print(\"You can choose to walk in multiple directions to find a way out.\")\n",
    "    print(\"Let's start with your name: \")\n",
    "    name = input()\n",
    "    print(\"Good luck, \" +name+ \".\")\n",
    "    introScene()"
   ]
  },
  {
   "cell_type": "markdown",
   "id": "ad4ff15d",
   "metadata": {},
   "source": [
    "Q-25 Build a program that solves a linear equation for x, considering different cases."
   ]
  },
  {
   "cell_type": "code",
   "execution_count": 14,
   "id": "98bf44a0",
   "metadata": {},
   "outputs": [],
   "source": [
    "def solveEquation(equation) :\n",
    " \n",
    "    n = len(equation)\n",
    "    sign = 1\n",
    "    coeff = 0\n",
    "    total = 0\n",
    "    i = 0\n",
    " \n",
    "    # Traverse the equation\n",
    "    for j in range(0, n) :\n",
    "     \n",
    "        if (equation[j] == '+' or\n",
    "            equation[j] == '-') :\n",
    "         \n",
    "            if (j > i) :\n",
    "                total = (total + sign *\n",
    "                         int(equation[i: j]))\n",
    "            i = j\n",
    "         \n",
    "        # For cases such\n",
    "        # as: x, -x, +x\n",
    "        elif (equation[j] == 'x') :\n",
    "         \n",
    "            if ((i == j) or\n",
    "                equation[j - 1] == '+') :\n",
    "                coeff += sign\n",
    "            elif (equation[j - 1] == '-') :\n",
    "                coeff = coeff - sign\n",
    "            else :\n",
    "                coeff = (coeff + sign *\n",
    "                         int(equation[i: j]))\n",
    "            i = j + 1\n",
    "         \n",
    "        # Flip sign once\n",
    "        # '=' is seen\n",
    "        elif (equation[j] == '=') :\n",
    "         \n",
    "            if (j > i) :\n",
    "                total = (total + sign *\n",
    "                         int(equation[i: j]))\n",
    "            sign = -1\n",
    "            i = j + 1\n",
    "         \n",
    "    # There may be a number\n",
    "    # left in the end\n",
    "    if (i < n) :\n",
    "        total = (total + sign *\n",
    "                 int(equation[i: len(equation)]))\n",
    " \n",
    "    # For infinite solutions\n",
    "    if (coeff == 0 and\n",
    "        total == 0) :\n",
    "        return \"Infinite solutions\"\n",
    " \n",
    "    # For no solution\n",
    "    if (coeff == 0 and total) :\n",
    "        return \"No solution\"\n",
    " \n",
    "    # x = total sum / coeff of x\n",
    "    # '-' sign indicates moving\n",
    "    # numeric value to right hand side\n",
    "    ans = -total / coeff\n",
    "    return int(ans)\n",
    " \n"
   ]
  },
  {
   "cell_type": "code",
   "execution_count": 15,
   "id": "28fe7404",
   "metadata": {},
   "outputs": [
    {
     "name": "stdout",
     "output_type": "stream",
     "text": [
      "x = 2\n"
     ]
    }
   ],
   "source": [
    "equation = \"x+5-3+x=6+x-2\"\n",
    "print (\"x = {}\" .\n",
    "        format(solveEquation(equation)))\n",
    " "
   ]
  },
  {
   "cell_type": "markdown",
   "id": "120aec4a",
   "metadata": {},
   "source": [
    "Q-26 Write a program that simulates a basic quiz game with multiple-choice questions and scoring."
   ]
  },
  {
   "cell_type": "code",
   "execution_count": 16,
   "id": "db5a7bbf",
   "metadata": {},
   "outputs": [
    {
     "name": "stdout",
     "output_type": "stream",
     "text": [
      "Wellcome to quiz game !!\n",
      "NOTE: if your spelling is incorrect then it is considered as wrong answer\n",
      "Do you want to play ? yes\n",
      "\n",
      "1. what does CPU stand for? central processing unit\n",
      "correct! you got 1 point\n"
     ]
    }
   ],
   "source": [
    "print(\"Wellcome to quiz game !!\")\n",
    "print('NOTE: if your spelling is incorrect then it is considered as wrong answer')\n",
    "score = 0\n",
    "question_no = 0\n",
    "playing = input('Do you want to play ? ').lower()\n",
    "if playing == 'yes':\n",
    "    question_no += 1\n",
    "    ques = input(f'\\n{question_no}. what does CPU stand for? ').lower()\n",
    "    if ques == 'central processing unit':\n",
    "        score +=1\n",
    "        print('correct! you got 1 point')\n",
    "        \n",
    "    else:\n",
    "        print('Incorrect!')\n",
    "        print(f'current answer is --> central processing unit')\n"
   ]
  },
  {
   "cell_type": "markdown",
   "id": "687d7154",
   "metadata": {},
   "source": [
    "Q-27 Develop a program that determines whether a given year is a prime number or not."
   ]
  },
  {
   "cell_type": "code",
   "execution_count": 20,
   "id": "a7b8716c",
   "metadata": {},
   "outputs": [
    {
     "name": "stdout",
     "output_type": "stream",
     "text": [
      "11 is a prime number\n"
     ]
    }
   ],
   "source": [
    "num = 11\n",
    "\n",
    "if num > 1:\n",
    "   \n",
    "    for i in range(2, int(num/2)+1):\n",
    "        \n",
    "        if (num % i) == 0:\n",
    "            print(num, \"is not a prime number\")\n",
    "            break\n",
    "    else:\n",
    "        print(num, \"is a prime number\")\n",
    "else:\n",
    "    print(num, \"is not a prime number\")"
   ]
  },
  {
   "cell_type": "markdown",
   "id": "7da8000f",
   "metadata": {},
   "source": [
    "Q-28 Create a program that sorts three numbers in ascending order using conditional statements."
   ]
  },
  {
   "cell_type": "code",
   "execution_count": 21,
   "id": "65205aaa",
   "metadata": {},
   "outputs": [
    {
     "name": "stdout",
     "output_type": "stream",
     "text": [
      "Enter a: 5\n",
      "Enter b: 6\n",
      "Enter c: 8\n",
      "5.0 < 6.0 < 8.0\n"
     ]
    }
   ],
   "source": [
    "a = float(input(\"Enter a: \"))\n",
    "b = float(input(\"Enter b: \"))\n",
    "c = float(input(\"Enter c: \"))\n",
    "if a < b:\n",
    "    if b < c:\n",
    "        print (a, \"<\", b, \"<\", c)\n",
    "    else:\n",
    "        if a < c:\n",
    "            print (a, \"<\", c, \"<\", b)\n",
    "        else:\n",
    "            print (c, \"<\", a, \"<\", b)\n",
    "else:\n",
    "    if c < b:\n",
    "        print (c, \"<\", b, \"<\", a)\n",
    "    else:\n",
    "        if c < a:\n",
    "            print (b, \"<\", c, \"<\", a)\n",
    "        else:\n",
    "            print (b, \"<\", a, \"<\", c)"
   ]
  },
  {
   "cell_type": "markdown",
   "id": "ddde19f3",
   "metadata": {},
   "source": [
    "Q-29 Build a program that determines the roots of a quartic equation using numerical methods."
   ]
  },
  {
   "cell_type": "code",
   "execution_count": 24,
   "id": "be3d4faf",
   "metadata": {},
   "outputs": [],
   "source": [
    "import math\n",
    " \n",
    " \n",
    "# function for finding roots\n",
    "def equationroots( a, b, c):\n",
    " \n",
    "    # calculating discriminant using formula\n",
    "    dis = b * b - 4 * a * c\n",
    "    sqrt_val = math.sqrt(abs(dis))\n",
    "     \n",
    "    # checking condition for discriminant\n",
    "    if dis > 0:\n",
    "        print(\"real and different roots\")\n",
    "        print((-b + sqrt_val)/(2 * a))\n",
    "        print((-b - sqrt_val)/(2 * a))\n",
    "     \n",
    "    elif dis == 0:\n",
    "        print(\"real and same roots\")\n",
    "        print(-b / (2 * a))\n",
    "     \n",
    "    # when discriminant is less than 0\n",
    "    else:\n",
    "        print(\"Complex Roots\")\n",
    "        print(- b / (2 * a), + i, sqrt_val)\n",
    "        print(- b / (2 * a), - i, sqrt_val)\n",
    " \n"
   ]
  },
  {
   "cell_type": "code",
   "execution_count": 25,
   "id": "6250d81f",
   "metadata": {},
   "outputs": [
    {
     "name": "stdout",
     "output_type": "stream",
     "text": [
      "real and different roots\n",
      "2.0\n",
      "-12.0\n"
     ]
    }
   ],
   "source": [
    "\n",
    "\n",
    "a = 1\n",
    "b = 10\n",
    "c = -24\n",
    " \n",
    "# If a is 0, then incorrect equation\n",
    "if a == 0:\n",
    "        print(\"Input correct quadratic equation\")\n",
    " \n",
    "else:\n",
    "    equationroots(a, b, c)"
   ]
  },
  {
   "cell_type": "markdown",
   "id": "7fdb1cbf",
   "metadata": {},
   "source": [
    "Q-30 Write a program that calculates the BMI (Body Mass Index) and provides health recommendations based\n",
    "on the user's input."
   ]
  },
  {
   "cell_type": "code",
   "execution_count": 26,
   "id": "097f7389",
   "metadata": {},
   "outputs": [
    {
     "name": "stdout",
     "output_type": "stream",
     "text": [
      "The BMI is 21.64532402096181 so Healthy\n"
     ]
    }
   ],
   "source": [
    "def BMI(height, weight):\n",
    "    bmi = weight/(height**2)\n",
    "    return bmi\n",
    "  \n",
    "# Driver code\n",
    "height = 1.79832\n",
    "weight = 70\n",
    "  \n",
    "# calling the BMI function\n",
    "bmi = BMI(height, weight)\n",
    "print(\"The BMI is\", format(bmi), \"so \", end='')\n",
    "  \n",
    "# Conditions to find out BMI category\n",
    "if (bmi < 18.5):\n",
    "    print(\"underweight\")\n",
    "  \n",
    "elif ( bmi >= 18.5 and bmi < 24.9):\n",
    "    print(\"Healthy\")\n",
    "  \n",
    "elif ( bmi >= 24.9 and bmi < 30):\n",
    "    print(\"overweight\")\n",
    "  \n",
    "elif ( bmi >=30):\n",
    "    print(\"Suffering from Obesity\")"
   ]
  },
  {
   "cell_type": "markdown",
   "id": "81e8cb2e",
   "metadata": {},
   "source": [
    "# Challenge Level:"
   ]
  },
  {
   "cell_type": "markdown",
   "id": "85f87817",
   "metadata": {},
   "source": [
    "Q-31 Create a program that validates a password based on complexity rules (length, characters, etc.)."
   ]
  },
  {
   "cell_type": "code",
   "execution_count": 27,
   "id": "7b024080",
   "metadata": {},
   "outputs": [
    {
     "name": "stdout",
     "output_type": "stream",
     "text": [
      "Valid Password\n"
     ]
    }
   ],
   "source": [
    "import re\n",
    "password = \"R@m@_f0rtu9e$\"\n",
    "flag = 0\n",
    "while True:\n",
    "    if (len(password)<=8):\n",
    "        flag = -1\n",
    "        break\n",
    "    elif not re.search(\"[a-z]\", password):\n",
    "        flag = -1\n",
    "        break\n",
    "    elif not re.search(\"[A-Z]\", password):\n",
    "        flag = -1\n",
    "        break\n",
    "    elif not re.search(\"[0-9]\", password):\n",
    "        flag = -1\n",
    "        break\n",
    "    elif not re.search(\"[_@$]\" , password):\n",
    "        flag = -1\n",
    "        break\n",
    "    elif re.search(\"\\s\" , password):\n",
    "        flag = -1\n",
    "        break\n",
    "    else:\n",
    "        flag = 0\n",
    "        print(\"Valid Password\")\n",
    "        break\n",
    " \n",
    "if flag == -1:\n",
    "    print(\"Not a Valid Password \")"
   ]
  },
  {
   "cell_type": "markdown",
   "id": "5078d65e",
   "metadata": {},
   "source": [
    "Q-32 Develop a program that performs matrix addition and subtraction based on user input."
   ]
  },
  {
   "cell_type": "code",
   "execution_count": 29,
   "id": "8541b0f1",
   "metadata": {},
   "outputs": [
    {
     "name": "stdout",
     "output_type": "stream",
     "text": [
      "Printing elements of first matrix\n",
      "1 2 \n",
      "3 4 \n",
      "Printing elements of second matrix\n",
      "4 5 \n",
      "6 7 \n",
      "Subtraction of two matrix\n",
      "-3 -3 \n",
      "-3 -3 \n"
     ]
    }
   ],
   "source": [
    "matrix1 = [[1, 2], [3, 4]]\n",
    "matrix2 = [[4, 5], [6, 7]]\n",
    " \n",
    "# Printing elements of matrix1\n",
    "print(\"Printing elements of first matrix\")\n",
    "for row in matrix1:\n",
    "    for element in row:\n",
    "        print(element, end=\" \")\n",
    "    print()\n",
    " \n",
    "# Printing elements of matrix2\n",
    "print(\"Printing elements of second matrix\")\n",
    "for row in matrix2:\n",
    "    for element in row:\n",
    "        print(element, end=\" \")\n",
    "    print()\n",
    " \n",
    "# Subtracting two matrices\n",
    "result = [[0, 0], [0, 0]]\n",
    "for i in range(len(matrix1)):\n",
    "    for j in range(len(matrix1[0])):\n",
    "        result[i][j] = matrix1[i][j] - matrix2[i][j]\n",
    " \n",
    "# Printing the result\n",
    "print(\"Subtraction of two matrix\")\n",
    "for row in result:\n",
    "    for element in row:\n",
    "        print(element, end=\" \")\n",
    "    print()"
   ]
  },
  {
   "cell_type": "markdown",
   "id": "252f75d9",
   "metadata": {},
   "source": [
    "Q-33 Write a program that calculates the greatest common divisor (GCD) of two numbers using the Euclidean\n",
    "algorithm."
   ]
  },
  {
   "cell_type": "code",
   "execution_count": 30,
   "id": "33788b98",
   "metadata": {},
   "outputs": [
    {
     "name": "stdout",
     "output_type": "stream",
     "text": [
      "The gcd of 60 and 48 is : 12\n"
     ]
    }
   ],
   "source": [
    "def hcf(a, b):\n",
    "    if(b == 0):\n",
    "        return a\n",
    "    else:\n",
    "        return hcf(b, a % b)\n",
    " \n",
    "a = 60\n",
    "b = 48\n",
    " \n",
    "# prints 12\n",
    "print(\"The gcd of 60 and 48 is : \", end=\"\")\n",
    "print(hcf(60, 48))"
   ]
  },
  {
   "cell_type": "markdown",
   "id": "b4d441cc",
   "metadata": {},
   "source": [
    "Q-34 Build a program that performs matrix multiplication using nested loops and conditional statements."
   ]
  },
  {
   "cell_type": "code",
   "execution_count": 31,
   "id": "4ee29a42",
   "metadata": {},
   "outputs": [
    {
     "name": "stdout",
     "output_type": "stream",
     "text": [
      "[114, 160, 60, 27]\n",
      "[74, 97, 73, 14]\n",
      "[119, 157, 112, 23]\n"
     ]
    }
   ],
   "source": [
    "X = [[12,7,3],\n",
    "    [4 ,5,6],\n",
    "    [7 ,8,9]]\n",
    "# 3x4 matrix\n",
    "Y = [[5,8,1,2],\n",
    "    [6,7,3,0],\n",
    "    [4,5,9,1]]\n",
    "# result is 3x4\n",
    "result = [[0,0,0,0],\n",
    "         [0,0,0,0],\n",
    "         [0,0,0,0]]\n",
    "\n",
    "# iterate through rows of X\n",
    "for i in range(len(X)):\n",
    "   # iterate through columns of Y\n",
    "   for j in range(len(Y[0])):\n",
    "       # iterate through rows of Y\n",
    "       for k in range(len(Y)):\n",
    "           result[i][j] += X[i][k] * Y[k][j]\n",
    "\n",
    "for r in result:\n",
    "   print(r)"
   ]
  },
  {
   "cell_type": "markdown",
   "id": "f2ea90d2",
   "metadata": {},
   "source": [
    "Q-35 Create a program that simulates a basic text-based tic-tac-toe game against the computer."
   ]
  },
  {
   "cell_type": "code",
   "execution_count": null,
   "id": "4144767e",
   "metadata": {},
   "outputs": [
    {
     "name": "stdout",
     "output_type": "stream",
     "text": [
      "Player X turn\n",
      "- - - \n",
      "- - - \n",
      "- - - \n",
      "Enter row and column numbers to fix spot: 1 1\n",
      "\n",
      "Player O turn\n",
      "X - - \n",
      "- - - \n",
      "- - - \n",
      "Enter row and column numbers to fix spot: 1 2\n",
      "\n",
      "Player X turn\n",
      "X O - \n",
      "- - - \n",
      "- - - \n"
     ]
    }
   ],
   "source": [
    "import random\n",
    "\n",
    "\n",
    "class TicTacToe:\n",
    "\n",
    "    def __init__(self):\n",
    "        self.board = []\n",
    "\n",
    "    def create_board(self):\n",
    "        for i in range(3):\n",
    "            row = []\n",
    "            for j in range(3):\n",
    "                row.append('-')\n",
    "            self.board.append(row)\n",
    "\n",
    "    def get_random_first_player(self):\n",
    "        return random.randint(0, 1)\n",
    "\n",
    "    def fix_spot(self, row, col, player):\n",
    "        self.board[row][col] = player\n",
    "\n",
    "    def is_player_win(self, player):\n",
    "        win = None\n",
    "\n",
    "        n = len(self.board)\n",
    "\n",
    "        # checking rows\n",
    "        for i in range(n):\n",
    "            win = True\n",
    "            for j in range(n):\n",
    "                if self.board[i][j] != player:\n",
    "                    win = False\n",
    "                    break\n",
    "            if win:\n",
    "                return win\n",
    "\n",
    "        # checking columns\n",
    "        for i in range(n):\n",
    "            win = True\n",
    "            for j in range(n):\n",
    "                if self.board[j][i] != player:\n",
    "                    win = False\n",
    "                    break\n",
    "            if win:\n",
    "                return win\n",
    "\n",
    "        # checking diagonals\n",
    "        win = True\n",
    "        for i in range(n):\n",
    "            if self.board[i][i] != player:\n",
    "                win = False\n",
    "                break\n",
    "        if win:\n",
    "            return win\n",
    "\n",
    "        win = True\n",
    "        for i in range(n):\n",
    "            if self.board[i][n - 1 - i] != player:\n",
    "                win = False\n",
    "                break\n",
    "        if win:\n",
    "            return win\n",
    "        return False\n",
    "\n",
    "        for row in self.board:\n",
    "            for item in row:\n",
    "                if item == '-':\n",
    "                    return False\n",
    "        return True\n",
    "\n",
    "    def is_board_filled(self):\n",
    "        for row in self.board:\n",
    "            for item in row:\n",
    "                if item == '-':\n",
    "                    return False\n",
    "        return True\n",
    "\n",
    "    def swap_player_turn(self, player):\n",
    "        return 'X' if player == 'O' else 'O'\n",
    "\n",
    "    def show_board(self):\n",
    "        for row in self.board:\n",
    "            for item in row:\n",
    "                print(item, end=\" \")\n",
    "            print()\n",
    "\n",
    "    def start(self):\n",
    "        self.create_board()\n",
    "\n",
    "        player = 'X' if self.get_random_first_player() == 1 else 'O'\n",
    "        while True:\n",
    "            print(f\"Player {player} turn\")\n",
    "\n",
    "            self.show_board()\n",
    "\n",
    "            # taking user input\n",
    "            row, col = list(\n",
    "                map(int, input(\"Enter row and column numbers to fix spot: \").split()))\n",
    "            print()\n",
    "\n",
    "            # fixing the spot\n",
    "            self.fix_spot(row - 1, col - 1, player)\n",
    "\n",
    "            # checking whether current player is won or not\n",
    "            if self.is_player_win(player):\n",
    "                print(f\"Player {player} wins the game!\")\n",
    "                break\n",
    "\n",
    "            # checking whether the game is draw or not\n",
    "            if self.is_board_filled():\n",
    "                print(\"Match Draw!\")\n",
    "                break\n",
    "\n",
    "            # swapping the turn\n",
    "            player = self.swap_player_turn(player)\n",
    "\n",
    "        # showing the final view of board\n",
    "        print()\n",
    "        self.show_board()\n",
    "\n",
    "\n",
    "# starting the game\n",
    "tic_tac_toe = TicTacToe()\n",
    "tic_tac_toe.start()"
   ]
  },
  {
   "cell_type": "markdown",
   "id": "e0cde9fd",
   "metadata": {},
   "source": [
    "Q-36 Write a program that generates Fibonacci numbers up to a specified term using iterative methods."
   ]
  },
  {
   "cell_type": "code",
   "execution_count": 1,
   "id": "eb9dc96c",
   "metadata": {},
   "outputs": [
    {
     "name": "stdout",
     "output_type": "stream",
     "text": [
      "How many terms? 3\n",
      "Fibonacci sequence:\n",
      "0\n",
      "1\n",
      "1\n"
     ]
    }
   ],
   "source": [
    "nterms = int(input(\"How many terms? \"))\n",
    "\n",
    "# first two terms\n",
    "n1, n2 = 0, 1\n",
    "count = 0\n",
    "\n",
    "# check if the number of terms is valid\n",
    "if nterms <= 0:\n",
    "   print(\"Please enter a positive integer\")\n",
    "# if there is only one term, return n1\n",
    "elif nterms == 1:\n",
    "   print(\"Fibonacci sequence upto\",nterms,\":\")\n",
    "   print(n1)\n",
    "# generate fibonacci sequence\n",
    "else:\n",
    "   print(\"Fibonacci sequence:\")\n",
    "   while count < nterms:\n",
    "       print(n1)\n",
    "       nth = n1 + n2\n",
    "       # update values\n",
    "       n1 = n2\n",
    "       n2 = nth\n",
    "       count += 1"
   ]
  },
  {
   "cell_type": "markdown",
   "id": "64d0414d",
   "metadata": {},
   "source": [
    "Q-37 Develop a program that calculates the nth term of the Fibonacci sequence using memoization."
   ]
  },
  {
   "cell_type": "code",
   "execution_count": 3,
   "id": "63b79b71",
   "metadata": {},
   "outputs": [
    {
     "name": "stdout",
     "output_type": "stream",
     "text": [
      "34\n"
     ]
    }
   ],
   "source": [
    "def Fibonacci(n):\n",
    "    if n<= 0:\n",
    "        print(\"Incorrect input\")\n",
    "    # First Fibonacci number is 0\n",
    "    elif n == 1:\n",
    "        return 0\n",
    "    # Second Fibonacci number is 1\n",
    "    elif n == 2:\n",
    "        return 1\n",
    "    else:\n",
    "        return Fibonacci(n-1)+Fibonacci(n-2)\n",
    " \n",
    "print(Fibonacci(10))"
   ]
  },
  {
   "cell_type": "markdown",
   "id": "e443da44",
   "metadata": {},
   "source": [
    "Q-38 Create a program that generates a calendar for a given month and year using conditional statements."
   ]
  },
  {
   "cell_type": "code",
   "execution_count": 5,
   "id": "4b2a792e",
   "metadata": {},
   "outputs": [
    {
     "name": "stdout",
     "output_type": "stream",
     "text": [
      "February 2020\n",
      "Su Mo Tu We Th Fr Sa\n",
      "                  01 \n",
      "02 03 04 05 06 07 08 \n",
      "09 10 11 12 13 14 15 \n",
      "16 17 18 19 20 21 22 \n",
      "23 24 25 26 27 28 29 \n"
     ]
    }
   ],
   "source": [
    "mm = 2\n",
    "yy = 2020\n",
    "  \n",
    "month ={1:'January', 2:'February', 3:'March', \n",
    "        4:'April', 5:'May', 6:'June', 7:'July',\n",
    "        8:'August', 9:'September', 10:'October',\n",
    "        11:'November', 12:'December'}\n",
    "   \n",
    "# code below for calculation of odd days\n",
    "day =(yy-1)% 400\n",
    "day = (day//100)*5 + ((day % 100) - (day % 100)//4) + ((day % 100)//4)*2\n",
    "day = day % 7\n",
    "  \n",
    "nly =[31, 28, 31, 30, 31, 30, \n",
    "      31, 31, 30, 31, 30, 31]\n",
    "ly =[31, 29, 31, 30, 31, 30, \n",
    "     31, 31, 30, 31, 30, 31]\n",
    "s = 0\n",
    "  \n",
    "if yy % 4 == 0:\n",
    "    for i in range(mm-1):\n",
    "        s+= ly[i]\n",
    "else:\n",
    "    for i in range(mm-1):\n",
    "        s+= nly[i]\n",
    "  \n",
    "day += s % 7\n",
    "day = day % 7\n",
    "   \n",
    "# variable used for white space filling \n",
    "# where date not present\n",
    "space =''\n",
    "space = space.rjust(2, ' ')\n",
    "  \n",
    "# code below is to print the calendar\n",
    "print(month[mm], yy)\n",
    "print('Su', 'Mo', 'Tu', 'We', 'Th', 'Fr', 'Sa')\n",
    "  \n",
    "if mm == 9 or mm == 4 or mm == 6 or mm == 11: \n",
    "    for i in range(31 + day):\n",
    "          \n",
    "        if i<= day:\n",
    "            print(space, end =' ')\n",
    "        else:\n",
    "            print(\"{:02d}\".format(i-day), end =' ')\n",
    "            if (i + 1)% 7 == 0:\n",
    "                print()\n",
    "elif mm == 2:\n",
    "    if yy % 4 == 0:\n",
    "        p = 30\n",
    "    else:\n",
    "        p = 29\n",
    "          \n",
    "    for i in range(p + day):\n",
    "        if i<= day:\n",
    "            print(space, end =' ')\n",
    "        else:\n",
    "            print(\"{:02d}\".format(i-day), end =' ')\n",
    "            if (i + 1)% 7 == 0:\n",
    "                print() \n",
    "else:\n",
    "    for i in range(32 + day):\n",
    "          \n",
    "        if i<= day:\n",
    "            print(space, end =' ')\n",
    "        else:\n",
    "            print(\"{:02d}\".format(i-day), end =' ')\n",
    "            if (i + 1)% 7 == 0:\n",
    "                print()"
   ]
  },
  {
   "cell_type": "markdown",
   "id": "9a338e57",
   "metadata": {},
   "source": [
    "Q-39 Build a program that simulates a basic text-based blackjack game against the computer."
   ]
  },
  {
   "cell_type": "code",
   "execution_count": null,
   "id": "3595e983",
   "metadata": {},
   "outputs": [],
   "source": []
  },
  {
   "cell_type": "markdown",
   "id": "3ce51d91",
   "metadata": {},
   "source": [
    "Q-40 Write a program that generates the prime factors of a given number using trial division."
   ]
  },
  {
   "cell_type": "code",
   "execution_count": 9,
   "id": "5f5b62c2",
   "metadata": {},
   "outputs": [
    {
     "name": "stdout",
     "output_type": "stream",
     "text": [
      "Composite\n"
     ]
    }
   ],
   "source": [
    "def TrialDivision(N):\n",
    " \n",
    "\n",
    "    i = 2\n",
    " \n",
    "    \n",
    "    k = int(N ** 0.5)\n",
    " \n",
    "  \n",
    "    while(i<= k):\n",
    " \n",
    "      \n",
    "        if(N % i == 0):\n",
    "            return 0\n",
    "        i += 1\n",
    " \n",
    "    \n",
    "    return 1\n",
    "     \n",
    "\n",
    "if __name__ == \"__main__\":\n",
    "    N = 49\n",
    "    p = TrialDivision(N)\n",
    " \n",
    "# To check if a number is a prime or not\n",
    "    if(p):\n",
    "        print(\"Prime\")\n",
    "    else:\n",
    "        print(\"Composite\")\n",
    "        "
   ]
  }
 ],
 "metadata": {
  "kernelspec": {
   "display_name": "Python 3 (ipykernel)",
   "language": "python",
   "name": "python3"
  },
  "language_info": {
   "codemirror_mode": {
    "name": "ipython",
    "version": 3
   },
   "file_extension": ".py",
   "mimetype": "text/x-python",
   "name": "python",
   "nbconvert_exporter": "python",
   "pygments_lexer": "ipython3",
   "version": "3.11.4"
  }
 },
 "nbformat": 4,
 "nbformat_minor": 5
}
